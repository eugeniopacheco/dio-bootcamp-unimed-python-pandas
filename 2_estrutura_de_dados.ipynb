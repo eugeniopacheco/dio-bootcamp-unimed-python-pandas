{
 "cells": [
  {
   "cell_type": "markdown",
   "id": "0376ba91",
   "metadata": {},
   "source": [
    "# Listas"
   ]
  },
  {
   "cell_type": "code",
   "execution_count": 1,
   "id": "be419929",
   "metadata": {},
   "outputs": [
    {
     "data": {
      "text/plain": [
       "[1, 2, 3]"
      ]
     },
     "execution_count": 1,
     "metadata": {},
     "output_type": "execute_result"
    }
   ],
   "source": [
    "#Criando uma lista chamada animais:\n",
    "animais = [1,2,3]\n",
    "animais"
   ]
  },
  {
   "cell_type": "code",
   "execution_count": 13,
   "id": "0e1955d0",
   "metadata": {},
   "outputs": [
    {
     "data": {
      "text/plain": [
       "['cachorro', 'gato', 123456, 6.5]"
      ]
     },
     "execution_count": 13,
     "metadata": {},
     "output_type": "execute_result"
    }
   ],
   "source": [
    "#Listas podem ser de diferentes tipos de dados\n",
    "animais = [\"cachorro\", \"gato\", 123456, 6.5]\n",
    "animais"
   ]
  },
  {
   "cell_type": "code",
   "execution_count": 4,
   "id": "9442df02",
   "metadata": {},
   "outputs": [
    {
     "data": {
      "text/plain": [
       "['cachorro', 'gato']"
      ]
     },
     "execution_count": 4,
     "metadata": {},
     "output_type": "execute_result"
    }
   ],
   "source": [
    "#Slicing\n",
    "animais[:2]"
   ]
  },
  {
   "cell_type": "code",
   "execution_count": 14,
   "id": "475a7d74",
   "metadata": {},
   "outputs": [
    {
     "data": {
      "text/plain": [
       "['pato', 'gato', 123456, 6.5]"
      ]
     },
     "execution_count": 14,
     "metadata": {},
     "output_type": "execute_result"
    }
   ],
   "source": [
    "#Substituir elemento na lista:\n",
    "animais[0] = \"pato\"\n",
    "animais"
   ]
  },
  {
   "cell_type": "code",
   "execution_count": 8,
   "id": "5159687f",
   "metadata": {},
   "outputs": [
    {
     "data": {
      "text/plain": [
       "6.5"
      ]
     },
     "execution_count": 8,
     "metadata": {},
     "output_type": "execute_result"
    }
   ],
   "source": [
    "#Removendo último elemento da lista\n",
    "animais.pop()"
   ]
  },
  {
   "cell_type": "code",
   "execution_count": 10,
   "id": "09ac0ec1",
   "metadata": {},
   "outputs": [
    {
     "data": {
      "text/plain": [
       "['pato', 'gato', 123456, 6.5]"
      ]
     },
     "execution_count": 10,
     "metadata": {},
     "output_type": "execute_result"
    }
   ],
   "source": [
    "#Colocando elemento no final da lista\n",
    "animais.append(6.5)\n",
    "animais"
   ]
  },
  {
   "cell_type": "code",
   "execution_count": 15,
   "id": "e499bd0b",
   "metadata": {},
   "outputs": [
    {
     "data": {
      "text/plain": [
       "['gato', 123456, 6.5]"
      ]
     },
     "execution_count": 15,
     "metadata": {},
     "output_type": "execute_result"
    }
   ],
   "source": [
    "#Removendo elemento específico\n",
    "animais.remove(\"pato\")\n",
    "animais"
   ]
  },
  {
   "cell_type": "code",
   "execution_count": 18,
   "id": "c25653f8",
   "metadata": {},
   "outputs": [
    {
     "data": {
      "text/plain": [
       "3"
      ]
     },
     "execution_count": 18,
     "metadata": {},
     "output_type": "execute_result"
    }
   ],
   "source": [
    "#Tamanho da lista\n",
    "len(animais)"
   ]
  },
  {
   "cell_type": "code",
   "execution_count": 19,
   "id": "316cd9d3",
   "metadata": {},
   "outputs": [],
   "source": [
    "lista = [500, 30, 300, 10, 80]"
   ]
  },
  {
   "cell_type": "code",
   "execution_count": 21,
   "id": "a1c4b6e4",
   "metadata": {},
   "outputs": [
    {
     "data": {
      "text/plain": [
       "500"
      ]
     },
     "execution_count": 21,
     "metadata": {},
     "output_type": "execute_result"
    }
   ],
   "source": [
    "#Maximo\n",
    "max(lista)"
   ]
  },
  {
   "cell_type": "code",
   "execution_count": 22,
   "id": "3c1a39b3",
   "metadata": {},
   "outputs": [
    {
     "data": {
      "text/plain": [
       "10"
      ]
     },
     "execution_count": 22,
     "metadata": {},
     "output_type": "execute_result"
    }
   ],
   "source": [
    "#Mínimo\n",
    "min(lista)"
   ]
  },
  {
   "cell_type": "code",
   "execution_count": 25,
   "id": "68d0930c",
   "metadata": {},
   "outputs": [
    {
     "data": {
      "text/plain": [
       "['gato', 123456, 6.5, 'Cobra', 6, 'Cobra', 6]"
      ]
     },
     "execution_count": 25,
     "metadata": {},
     "output_type": "execute_result"
    }
   ],
   "source": [
    "#Adicionando mais de um elemento para lista:\n",
    "animais.extend([\"Cobra\", 6])\n",
    "animais"
   ]
  },
  {
   "cell_type": "code",
   "execution_count": 29,
   "id": "cf1bc25c",
   "metadata": {},
   "outputs": [
    {
     "data": {
      "text/plain": [
       "0"
      ]
     },
     "execution_count": 29,
     "metadata": {},
     "output_type": "execute_result"
    }
   ],
   "source": [
    "#Comparações são case sensitive\n",
    "animais.count(\"cobra\")"
   ]
  },
  {
   "cell_type": "code",
   "execution_count": 31,
   "id": "a5212781",
   "metadata": {},
   "outputs": [
    {
     "data": {
      "text/plain": [
       "[10, 30, 80, 300, 500]"
      ]
     },
     "execution_count": 31,
     "metadata": {},
     "output_type": "execute_result"
    }
   ],
   "source": [
    "#Sorting listas\n",
    "lista.sort()\n",
    "lista"
   ]
  },
  {
   "cell_type": "markdown",
   "id": "5d5b055b",
   "metadata": {},
   "source": [
    "# Tuplas"
   ]
  },
  {
   "cell_type": "code",
   "execution_count": 33,
   "id": "50e9519c",
   "metadata": {},
   "outputs": [
    {
     "data": {
      "text/plain": [
       "('Banana', 'maçã', 10, 50)"
      ]
     },
     "execution_count": 33,
     "metadata": {},
     "output_type": "execute_result"
    }
   ],
   "source": [
    "#Tuplas são declaradas com ()\n",
    "tp = (\"Banana\", \"maçã\", 10, 50)\n",
    "tp"
   ]
  },
  {
   "cell_type": "code",
   "execution_count": 34,
   "id": "8a7f205c",
   "metadata": {},
   "outputs": [
    {
     "ename": "TypeError",
     "evalue": "'tuple' object does not support item assignment",
     "output_type": "error",
     "traceback": [
      "\u001b[1;31m---------------------------------------------------------------------------\u001b[0m",
      "\u001b[1;31mTypeError\u001b[0m                                 Traceback (most recent call last)",
      "\u001b[1;32m~\\AppData\\Local\\Temp/ipykernel_19360/2256601714.py\u001b[0m in \u001b[0;36m<module>\u001b[1;34m\u001b[0m\n\u001b[0;32m      1\u001b[0m \u001b[1;31m#Tuplas são imutáveis\u001b[0m\u001b[1;33m\u001b[0m\u001b[1;33m\u001b[0m\u001b[0m\n\u001b[1;32m----> 2\u001b[1;33m \u001b[0mtp\u001b[0m\u001b[1;33m[\u001b[0m\u001b[1;36m0\u001b[0m\u001b[1;33m]\u001b[0m \u001b[1;33m=\u001b[0m \u001b[1;34m\"abacaxi\"\u001b[0m\u001b[1;33m\u001b[0m\u001b[1;33m\u001b[0m\u001b[0m\n\u001b[0m",
      "\u001b[1;31mTypeError\u001b[0m: 'tuple' object does not support item assignment"
     ]
    }
   ],
   "source": [
    "#Tuplas são imutáveis\n",
    "tp[0] = \"abacaxi\""
   ]
  },
  {
   "cell_type": "code",
   "execution_count": 35,
   "id": "9f1354a1",
   "metadata": {},
   "outputs": [
    {
     "data": {
      "text/plain": [
       "('Banana', 'maçã')"
      ]
     },
     "execution_count": 35,
     "metadata": {},
     "output_type": "execute_result"
    }
   ],
   "source": [
    "#Slicing e outras funções funcionam\n",
    "tp[:2]"
   ]
  },
  {
   "cell_type": "code",
   "execution_count": 36,
   "id": "387ee918",
   "metadata": {},
   "outputs": [
    {
     "data": {
      "text/plain": [
       "1"
      ]
     },
     "execution_count": 36,
     "metadata": {},
     "output_type": "execute_result"
    }
   ],
   "source": [
    "tp.count(\"Banana\")"
   ]
  },
  {
   "cell_type": "markdown",
   "id": "64673b02",
   "metadata": {},
   "source": [
    "# Dicionários"
   ]
  },
  {
   "cell_type": "code",
   "execution_count": 37,
   "id": "b70db2bc",
   "metadata": {},
   "outputs": [
    {
     "data": {
      "text/plain": [
       "{'Maçã': 20, 'Banana': 10, 'Laranja': 15, 'Uva': 5}"
      ]
     },
     "execution_count": 37,
     "metadata": {},
     "output_type": "execute_result"
    }
   ],
   "source": [
    "#Dicionários são criados com {}\n",
    "dc = {\n",
    "    \"Maçã\": 20,\n",
    "    \"Banana\": 10,\n",
    "    \"Laranja\": 15,\n",
    "    \"Uva\": 5\n",
    "     }\n",
    "dc"
   ]
  },
  {
   "cell_type": "code",
   "execution_count": 38,
   "id": "a199c529",
   "metadata": {},
   "outputs": [
    {
     "data": {
      "text/plain": [
       "20"
      ]
     },
     "execution_count": 38,
     "metadata": {},
     "output_type": "execute_result"
    }
   ],
   "source": [
    "#Acessando valor de uma chave:\n",
    "dc[\"Maçã\"]"
   ]
  },
  {
   "cell_type": "code",
   "execution_count": 39,
   "id": "02a9b942",
   "metadata": {},
   "outputs": [
    {
     "data": {
      "text/plain": [
       "{'Maçã': 25, 'Banana': 10, 'Laranja': 15, 'Uva': 5}"
      ]
     },
     "execution_count": 39,
     "metadata": {},
     "output_type": "execute_result"
    }
   ],
   "source": [
    "#Atualizando o valor da maçã:\n",
    "dc[\"Maçã\"] = 25\n",
    "dc"
   ]
  },
  {
   "cell_type": "code",
   "execution_count": 40,
   "id": "6bd8c282",
   "metadata": {},
   "outputs": [
    {
     "data": {
      "text/plain": [
       "dict_keys(['Maçã', 'Banana', 'Laranja', 'Uva'])"
      ]
     },
     "execution_count": 40,
     "metadata": {},
     "output_type": "execute_result"
    }
   ],
   "source": [
    "#Retornando lista de chaves:\n",
    "dc.keys()"
   ]
  },
  {
   "cell_type": "code",
   "execution_count": 41,
   "id": "38137d60",
   "metadata": {},
   "outputs": [
    {
     "data": {
      "text/plain": [
       "dict_values([25, 10, 15, 5])"
      ]
     },
     "execution_count": 41,
     "metadata": {},
     "output_type": "execute_result"
    }
   ],
   "source": [
    "#Retornando lista de valores:\n",
    "dc.values()"
   ]
  },
  {
   "cell_type": "code",
   "execution_count": 44,
   "id": "f145ed4b",
   "metadata": {},
   "outputs": [
    {
     "data": {
      "text/plain": [
       "{'Maçã': 25, 'Banana': 10, 'Laranja': 15, 'Uva': 5, 'Limão': 22}"
      ]
     },
     "execution_count": 44,
     "metadata": {},
     "output_type": "execute_result"
    }
   ],
   "source": [
    "#Verificando se já existe uma chave e caso não exista inserir:\n",
    "dc.setdefault(\"Limão\", 22)\n",
    "dc"
   ]
  },
  {
   "cell_type": "code",
   "execution_count": null,
   "id": "69208d80",
   "metadata": {},
   "outputs": [],
   "source": []
  }
 ],
 "metadata": {
  "kernelspec": {
   "display_name": "Python 3 (ipykernel)",
   "language": "python",
   "name": "python3"
  },
  "language_info": {
   "codemirror_mode": {
    "name": "ipython",
    "version": 3
   },
   "file_extension": ".py",
   "mimetype": "text/x-python",
   "name": "python",
   "nbconvert_exporter": "python",
   "pygments_lexer": "ipython3",
   "version": "3.10.7"
  }
 },
 "nbformat": 4,
 "nbformat_minor": 5
}
